{
  "nbformat": 4,
  "nbformat_minor": 0,
  "metadata": {
    "colab": {
      "provenance": []
    },
    "kernelspec": {
      "name": "python3",
      "display_name": "Python 3"
    },
    "language_info": {
      "name": "python"
    }
  },
  "cells": [
    {
      "cell_type": "code",
      "execution_count": null,
      "metadata": {
        "id": "xba1HOeRgtdP"
      },
      "outputs": [],
      "source": [
        "import pandas as pd\n",
        "import numpy as np\n",
        "from sklearn.model_selection import train_test_split\n",
        "import seaborn as sn\n",
        "import matplotlib.pyplot as plt\n",
        "import seaborn as sn\n"
      ]
    },
    {
      "cell_type": "code",
      "source": [
        "delimiter = ';'\n",
        "df = pd.read_csv('sleepdata_2.csv', delimiter=delimiter)\n",
        "df.head()"
      ],
      "metadata": {
        "colab": {
          "base_uri": "https://localhost:8080/",
          "height": 525
        },
        "id": "ADVSLzm3hJJA",
        "outputId": "ce876b57-033c-4ca4-9b2d-64417a773184"
      },
      "execution_count": null,
      "outputs": [
        {
          "output_type": "execute_result",
          "data": {
            "text/plain": [
              "                 Start                  End Sleep Quality Regularity  Mood  \\\n",
              "0  2019-05-12 23:26:13  2019-05-13 06:11:03           60%         0%   NaN   \n",
              "1  2019-05-13 22:10:31  2019-05-14 06:10:42           73%         0%   NaN   \n",
              "2  2019-05-14 21:43:00  2019-05-15 06:10:41           86%        96%   NaN   \n",
              "3  2019-05-15 23:11:51  2019-05-16 06:13:59           77%        92%   NaN   \n",
              "4  2019-05-16 23:12:13  2019-05-17 06:20:32           78%        94%   NaN   \n",
              "\n",
              "   Heart rate (bpm)  Steps Alarm mode  Air Pressure (Pa) City  ...  \\\n",
              "0                 0   8350     Normal                NaN  NaN  ...   \n",
              "1                 0   4746     Normal                NaN  NaN  ...   \n",
              "2                 0   4007     Normal                NaN  NaN  ...   \n",
              "3                 0   6578     Normal                NaN  NaN  ...   \n",
              "4                 0   4913     Normal                NaN  NaN  ...   \n",
              "\n",
              "   Time in bed (seconds)  Time asleep (seconds)  Time before sleep (seconds)  \\\n",
              "0                24289.2                22993.8                        161.9   \n",
              "1                28810.2                25160.9                        192.1   \n",
              "2                30461.5                28430.8                        203.1   \n",
              "3                25327.6                23132.5                        168.9   \n",
              "4                25698.4                22614.6                        171.3   \n",
              "\n",
              "          Window start          Window stop Did snore  Snore time  \\\n",
              "0  2019-05-13 06:00:00  2019-05-13 06:00:00      True        92.0   \n",
              "1  2019-05-14 05:50:00  2019-05-14 05:50:00      True         0.0   \n",
              "2  2019-05-15 05:50:00  2019-05-15 05:50:00      True        74.0   \n",
              "3  2019-05-16 05:50:00  2019-05-16 05:50:00      True         0.0   \n",
              "4  2019-05-17 05:50:00  2019-05-17 05:50:00      True       188.0   \n",
              "\n",
              "   Weather temperature (°C)  Weather type Notes  \n",
              "0                       0.0    No weather   NaN  \n",
              "1                       0.0    No weather   NaN  \n",
              "2                       0.0    No weather   NaN  \n",
              "3                       0.0    No weather   NaN  \n",
              "4                       0.0    No weather   NaN  \n",
              "\n",
              "[5 rows x 21 columns]"
            ],
            "text/html": [
              "\n",
              "\n",
              "  <div id=\"df-e93af431-0d24-4857-b717-0c7fd49103a5\">\n",
              "    <div class=\"colab-df-container\">\n",
              "      <div>\n",
              "<style scoped>\n",
              "    .dataframe tbody tr th:only-of-type {\n",
              "        vertical-align: middle;\n",
              "    }\n",
              "\n",
              "    .dataframe tbody tr th {\n",
              "        vertical-align: top;\n",
              "    }\n",
              "\n",
              "    .dataframe thead th {\n",
              "        text-align: right;\n",
              "    }\n",
              "</style>\n",
              "<table border=\"1\" class=\"dataframe\">\n",
              "  <thead>\n",
              "    <tr style=\"text-align: right;\">\n",
              "      <th></th>\n",
              "      <th>Start</th>\n",
              "      <th>End</th>\n",
              "      <th>Sleep Quality</th>\n",
              "      <th>Regularity</th>\n",
              "      <th>Mood</th>\n",
              "      <th>Heart rate (bpm)</th>\n",
              "      <th>Steps</th>\n",
              "      <th>Alarm mode</th>\n",
              "      <th>Air Pressure (Pa)</th>\n",
              "      <th>City</th>\n",
              "      <th>...</th>\n",
              "      <th>Time in bed (seconds)</th>\n",
              "      <th>Time asleep (seconds)</th>\n",
              "      <th>Time before sleep (seconds)</th>\n",
              "      <th>Window start</th>\n",
              "      <th>Window stop</th>\n",
              "      <th>Did snore</th>\n",
              "      <th>Snore time</th>\n",
              "      <th>Weather temperature (°C)</th>\n",
              "      <th>Weather type</th>\n",
              "      <th>Notes</th>\n",
              "    </tr>\n",
              "  </thead>\n",
              "  <tbody>\n",
              "    <tr>\n",
              "      <th>0</th>\n",
              "      <td>2019-05-12 23:26:13</td>\n",
              "      <td>2019-05-13 06:11:03</td>\n",
              "      <td>60%</td>\n",
              "      <td>0%</td>\n",
              "      <td>NaN</td>\n",
              "      <td>0</td>\n",
              "      <td>8350</td>\n",
              "      <td>Normal</td>\n",
              "      <td>NaN</td>\n",
              "      <td>NaN</td>\n",
              "      <td>...</td>\n",
              "      <td>24289.2</td>\n",
              "      <td>22993.8</td>\n",
              "      <td>161.9</td>\n",
              "      <td>2019-05-13 06:00:00</td>\n",
              "      <td>2019-05-13 06:00:00</td>\n",
              "      <td>True</td>\n",
              "      <td>92.0</td>\n",
              "      <td>0.0</td>\n",
              "      <td>No weather</td>\n",
              "      <td>NaN</td>\n",
              "    </tr>\n",
              "    <tr>\n",
              "      <th>1</th>\n",
              "      <td>2019-05-13 22:10:31</td>\n",
              "      <td>2019-05-14 06:10:42</td>\n",
              "      <td>73%</td>\n",
              "      <td>0%</td>\n",
              "      <td>NaN</td>\n",
              "      <td>0</td>\n",
              "      <td>4746</td>\n",
              "      <td>Normal</td>\n",
              "      <td>NaN</td>\n",
              "      <td>NaN</td>\n",
              "      <td>...</td>\n",
              "      <td>28810.2</td>\n",
              "      <td>25160.9</td>\n",
              "      <td>192.1</td>\n",
              "      <td>2019-05-14 05:50:00</td>\n",
              "      <td>2019-05-14 05:50:00</td>\n",
              "      <td>True</td>\n",
              "      <td>0.0</td>\n",
              "      <td>0.0</td>\n",
              "      <td>No weather</td>\n",
              "      <td>NaN</td>\n",
              "    </tr>\n",
              "    <tr>\n",
              "      <th>2</th>\n",
              "      <td>2019-05-14 21:43:00</td>\n",
              "      <td>2019-05-15 06:10:41</td>\n",
              "      <td>86%</td>\n",
              "      <td>96%</td>\n",
              "      <td>NaN</td>\n",
              "      <td>0</td>\n",
              "      <td>4007</td>\n",
              "      <td>Normal</td>\n",
              "      <td>NaN</td>\n",
              "      <td>NaN</td>\n",
              "      <td>...</td>\n",
              "      <td>30461.5</td>\n",
              "      <td>28430.8</td>\n",
              "      <td>203.1</td>\n",
              "      <td>2019-05-15 05:50:00</td>\n",
              "      <td>2019-05-15 05:50:00</td>\n",
              "      <td>True</td>\n",
              "      <td>74.0</td>\n",
              "      <td>0.0</td>\n",
              "      <td>No weather</td>\n",
              "      <td>NaN</td>\n",
              "    </tr>\n",
              "    <tr>\n",
              "      <th>3</th>\n",
              "      <td>2019-05-15 23:11:51</td>\n",
              "      <td>2019-05-16 06:13:59</td>\n",
              "      <td>77%</td>\n",
              "      <td>92%</td>\n",
              "      <td>NaN</td>\n",
              "      <td>0</td>\n",
              "      <td>6578</td>\n",
              "      <td>Normal</td>\n",
              "      <td>NaN</td>\n",
              "      <td>NaN</td>\n",
              "      <td>...</td>\n",
              "      <td>25327.6</td>\n",
              "      <td>23132.5</td>\n",
              "      <td>168.9</td>\n",
              "      <td>2019-05-16 05:50:00</td>\n",
              "      <td>2019-05-16 05:50:00</td>\n",
              "      <td>True</td>\n",
              "      <td>0.0</td>\n",
              "      <td>0.0</td>\n",
              "      <td>No weather</td>\n",
              "      <td>NaN</td>\n",
              "    </tr>\n",
              "    <tr>\n",
              "      <th>4</th>\n",
              "      <td>2019-05-16 23:12:13</td>\n",
              "      <td>2019-05-17 06:20:32</td>\n",
              "      <td>78%</td>\n",
              "      <td>94%</td>\n",
              "      <td>NaN</td>\n",
              "      <td>0</td>\n",
              "      <td>4913</td>\n",
              "      <td>Normal</td>\n",
              "      <td>NaN</td>\n",
              "      <td>NaN</td>\n",
              "      <td>...</td>\n",
              "      <td>25698.4</td>\n",
              "      <td>22614.6</td>\n",
              "      <td>171.3</td>\n",
              "      <td>2019-05-17 05:50:00</td>\n",
              "      <td>2019-05-17 05:50:00</td>\n",
              "      <td>True</td>\n",
              "      <td>188.0</td>\n",
              "      <td>0.0</td>\n",
              "      <td>No weather</td>\n",
              "      <td>NaN</td>\n",
              "    </tr>\n",
              "  </tbody>\n",
              "</table>\n",
              "<p>5 rows × 21 columns</p>\n",
              "</div>\n",
              "      <button class=\"colab-df-convert\" onclick=\"convertToInteractive('df-e93af431-0d24-4857-b717-0c7fd49103a5')\"\n",
              "              title=\"Convert this dataframe to an interactive table.\"\n",
              "              style=\"display:none;\">\n",
              "\n",
              "  <svg xmlns=\"http://www.w3.org/2000/svg\" height=\"24px\"viewBox=\"0 0 24 24\"\n",
              "       width=\"24px\">\n",
              "    <path d=\"M0 0h24v24H0V0z\" fill=\"none\"/>\n",
              "    <path d=\"M18.56 5.44l.94 2.06.94-2.06 2.06-.94-2.06-.94-.94-2.06-.94 2.06-2.06.94zm-11 1L8.5 8.5l.94-2.06 2.06-.94-2.06-.94L8.5 2.5l-.94 2.06-2.06.94zm10 10l.94 2.06.94-2.06 2.06-.94-2.06-.94-.94-2.06-.94 2.06-2.06.94z\"/><path d=\"M17.41 7.96l-1.37-1.37c-.4-.4-.92-.59-1.43-.59-.52 0-1.04.2-1.43.59L10.3 9.45l-7.72 7.72c-.78.78-.78 2.05 0 2.83L4 21.41c.39.39.9.59 1.41.59.51 0 1.02-.2 1.41-.59l7.78-7.78 2.81-2.81c.8-.78.8-2.07 0-2.86zM5.41 20L4 18.59l7.72-7.72 1.47 1.35L5.41 20z\"/>\n",
              "  </svg>\n",
              "      </button>\n",
              "\n",
              "\n",
              "\n",
              "    <div id=\"df-b590dca6-8694-42af-a0b6-8e99b363222f\">\n",
              "      <button class=\"colab-df-quickchart\" onclick=\"quickchart('df-b590dca6-8694-42af-a0b6-8e99b363222f')\"\n",
              "              title=\"Suggest charts.\"\n",
              "              style=\"display:none;\">\n",
              "\n",
              "<svg xmlns=\"http://www.w3.org/2000/svg\" height=\"24px\"viewBox=\"0 0 24 24\"\n",
              "     width=\"24px\">\n",
              "    <g>\n",
              "        <path d=\"M19 3H5c-1.1 0-2 .9-2 2v14c0 1.1.9 2 2 2h14c1.1 0 2-.9 2-2V5c0-1.1-.9-2-2-2zM9 17H7v-7h2v7zm4 0h-2V7h2v10zm4 0h-2v-4h2v4z\"/>\n",
              "    </g>\n",
              "</svg>\n",
              "      </button>\n",
              "    </div>\n",
              "\n",
              "<style>\n",
              "  .colab-df-quickchart {\n",
              "    background-color: #E8F0FE;\n",
              "    border: none;\n",
              "    border-radius: 50%;\n",
              "    cursor: pointer;\n",
              "    display: none;\n",
              "    fill: #1967D2;\n",
              "    height: 32px;\n",
              "    padding: 0 0 0 0;\n",
              "    width: 32px;\n",
              "  }\n",
              "\n",
              "  .colab-df-quickchart:hover {\n",
              "    background-color: #E2EBFA;\n",
              "    box-shadow: 0px 1px 2px rgba(60, 64, 67, 0.3), 0px 1px 3px 1px rgba(60, 64, 67, 0.15);\n",
              "    fill: #174EA6;\n",
              "  }\n",
              "\n",
              "  [theme=dark] .colab-df-quickchart {\n",
              "    background-color: #3B4455;\n",
              "    fill: #D2E3FC;\n",
              "  }\n",
              "\n",
              "  [theme=dark] .colab-df-quickchart:hover {\n",
              "    background-color: #434B5C;\n",
              "    box-shadow: 0px 1px 3px 1px rgba(0, 0, 0, 0.15);\n",
              "    filter: drop-shadow(0px 1px 2px rgba(0, 0, 0, 0.3));\n",
              "    fill: #FFFFFF;\n",
              "  }\n",
              "</style>\n",
              "\n",
              "    <script>\n",
              "      async function quickchart(key) {\n",
              "        const containerElement = document.querySelector('#' + key);\n",
              "        const charts = await google.colab.kernel.invokeFunction(\n",
              "            'suggestCharts', [key], {});\n",
              "      }\n",
              "    </script>\n",
              "\n",
              "      <script>\n",
              "\n",
              "function displayQuickchartButton(domScope) {\n",
              "  let quickchartButtonEl =\n",
              "    domScope.querySelector('#df-b590dca6-8694-42af-a0b6-8e99b363222f button.colab-df-quickchart');\n",
              "  quickchartButtonEl.style.display =\n",
              "    google.colab.kernel.accessAllowed ? 'block' : 'none';\n",
              "}\n",
              "\n",
              "        displayQuickchartButton(document);\n",
              "      </script>\n",
              "      <style>\n",
              "    .colab-df-container {\n",
              "      display:flex;\n",
              "      flex-wrap:wrap;\n",
              "      gap: 12px;\n",
              "    }\n",
              "\n",
              "    .colab-df-convert {\n",
              "      background-color: #E8F0FE;\n",
              "      border: none;\n",
              "      border-radius: 50%;\n",
              "      cursor: pointer;\n",
              "      display: none;\n",
              "      fill: #1967D2;\n",
              "      height: 32px;\n",
              "      padding: 0 0 0 0;\n",
              "      width: 32px;\n",
              "    }\n",
              "\n",
              "    .colab-df-convert:hover {\n",
              "      background-color: #E2EBFA;\n",
              "      box-shadow: 0px 1px 2px rgba(60, 64, 67, 0.3), 0px 1px 3px 1px rgba(60, 64, 67, 0.15);\n",
              "      fill: #174EA6;\n",
              "    }\n",
              "\n",
              "    [theme=dark] .colab-df-convert {\n",
              "      background-color: #3B4455;\n",
              "      fill: #D2E3FC;\n",
              "    }\n",
              "\n",
              "    [theme=dark] .colab-df-convert:hover {\n",
              "      background-color: #434B5C;\n",
              "      box-shadow: 0px 1px 3px 1px rgba(0, 0, 0, 0.15);\n",
              "      filter: drop-shadow(0px 1px 2px rgba(0, 0, 0, 0.3));\n",
              "      fill: #FFFFFF;\n",
              "    }\n",
              "  </style>\n",
              "\n",
              "      <script>\n",
              "        const buttonEl =\n",
              "          document.querySelector('#df-e93af431-0d24-4857-b717-0c7fd49103a5 button.colab-df-convert');\n",
              "        buttonEl.style.display =\n",
              "          google.colab.kernel.accessAllowed ? 'block' : 'none';\n",
              "\n",
              "        async function convertToInteractive(key) {\n",
              "          const element = document.querySelector('#df-e93af431-0d24-4857-b717-0c7fd49103a5');\n",
              "          const dataTable =\n",
              "            await google.colab.kernel.invokeFunction('convertToInteractive',\n",
              "                                                     [key], {});\n",
              "          if (!dataTable) return;\n",
              "\n",
              "          const docLinkHtml = 'Like what you see? Visit the ' +\n",
              "            '<a target=\"_blank\" href=https://colab.research.google.com/notebooks/data_table.ipynb>data table notebook</a>'\n",
              "            + ' to learn more about interactive tables.';\n",
              "          element.innerHTML = '';\n",
              "          dataTable['output_type'] = 'display_data';\n",
              "          await google.colab.output.renderOutput(dataTable, element);\n",
              "          const docLink = document.createElement('div');\n",
              "          docLink.innerHTML = docLinkHtml;\n",
              "          element.appendChild(docLink);\n",
              "        }\n",
              "      </script>\n",
              "    </div>\n",
              "  </div>\n"
            ]
          },
          "metadata": {},
          "execution_count": 3
        }
      ]
    },
    {
      "cell_type": "code",
      "source": [
        "#Seeing which column type is string so that we can change it to float\n",
        "column_types = df.dtypes\n",
        "\n",
        "# Separate columns into string and float types\n",
        "string_columns = column_types[column_types == 'object']\n",
        "float_columns = column_types[column_types == 'float64']\n",
        "\n",
        "# Print the columns with string and float types\n",
        "print(\"String columns:\")\n",
        "print(string_columns)\n",
        "print(\"\\nFloat columns:\")\n",
        "print(float_columns)"
      ],
      "metadata": {
        "colab": {
          "base_uri": "https://localhost:8080/"
        },
        "id": "FQqM7e8Ipo27",
        "outputId": "2f37c412-6d7c-46bf-d101-dc83206da7c6"
      },
      "execution_count": null,
      "outputs": [
        {
          "output_type": "stream",
          "name": "stdout",
          "text": [
            "String columns:\n",
            "Start            object\n",
            "End              object\n",
            "Sleep Quality    object\n",
            "Regularity       object\n",
            "Alarm mode       object\n",
            "City             object\n",
            "Window start     object\n",
            "Window stop      object\n",
            "Weather type     object\n",
            "Notes            object\n",
            "dtype: object\n",
            "\n",
            "Float columns:\n",
            "Mood                           float64\n",
            "Air Pressure (Pa)              float64\n",
            "Movements per hour             float64\n",
            "Time in bed (seconds)          float64\n",
            "Time asleep (seconds)          float64\n",
            "Time before sleep (seconds)    float64\n",
            "Snore time                     float64\n",
            "Weather temperature (°C)       float64\n",
            "dtype: object\n"
          ]
        }
      ]
    },
    {
      "cell_type": "code",
      "source": [
        "#Removing special characters like % sign\n",
        "df['Sleep Quality'] = df['Sleep Quality'].str.replace('%', '')\n",
        "df['Regularity'] = df['Regularity'].str.replace('%', '')\n",
        "\n"
      ],
      "metadata": {
        "id": "ruDipADtryg1"
      },
      "execution_count": null,
      "outputs": []
    },
    {
      "cell_type": "code",
      "source": [
        "#Converting to float\n",
        "df['Regularity'] = df['Regularity'].astype(float)\n",
        "df['Sleep Quality'] = df['Sleep Quality'].astype(float)\n",
        "\n"
      ],
      "metadata": {
        "id": "Ma3J3WC4u6Nk"
      },
      "execution_count": null,
      "outputs": []
    },
    {
      "cell_type": "code",
      "source": [
        "# Seeing which columns have null values\n",
        "columns_with_nan = df.isnull().any()\n",
        "print(columns_with_nan)\n"
      ],
      "metadata": {
        "colab": {
          "base_uri": "https://localhost:8080/"
        },
        "id": "mMwN_zA1nSYZ",
        "outputId": "1d3c4d07-ecc9-47b9-8a30-3ece62475d7b"
      },
      "execution_count": null,
      "outputs": [
        {
          "output_type": "stream",
          "name": "stdout",
          "text": [
            "Start                          False\n",
            "End                            False\n",
            "Sleep Quality                  False\n",
            "Regularity                     False\n",
            "Mood                            True\n",
            "Heart rate (bpm)               False\n",
            "Steps                          False\n",
            "Alarm mode                     False\n",
            "Air Pressure (Pa)               True\n",
            "City                            True\n",
            "Movements per hour             False\n",
            "Time in bed (seconds)          False\n",
            "Time asleep (seconds)          False\n",
            "Time before sleep (seconds)    False\n",
            "Window start                    True\n",
            "Window stop                     True\n",
            "Did snore                      False\n",
            "Snore time                     False\n",
            "Weather temperature (°C)       False\n",
            "Weather type                   False\n",
            "Notes                           True\n",
            "dtype: bool\n"
          ]
        }
      ]
    },
    {
      "cell_type": "code",
      "source": [
        "#Replacing null with median\n",
        "median_value = df['Air Pressure (Pa)'].median()\n",
        "df['Air Pressure (Pa)'].fillna(median_value, inplace=True)\n",
        "\n",
        "median_value2 = df['Regularity'].median()\n",
        "df['Regularity'].fillna(median_value2, inplace=True)"
      ],
      "metadata": {
        "id": "77iPwbDulUyg"
      },
      "execution_count": null,
      "outputs": []
    },
    {
      "cell_type": "code",
      "source": [
        "print(df['Weather type'].unique())\n",
        "print(df['Alarm mode'].unique())"
      ],
      "metadata": {
        "colab": {
          "base_uri": "https://localhost:8080/"
        },
        "id": "cilfPwi4HHJw",
        "outputId": "8f5cf859-bb24-4413-d095-5403f286c4c3"
      },
      "execution_count": null,
      "outputs": [
        {
          "output_type": "stream",
          "name": "stdout",
          "text": [
            "['No weather' 'Sunny' 'Fair' 'Partly cloudy' 'Cloudy' 'Snow' 'Fog' 'Rain'\n",
            " 'Rainy showers']\n",
            "['Normal' 'No alarm']\n"
          ]
        }
      ]
    },
    {
      "cell_type": "code",
      "source": [
        "#Converting weather type to float\n",
        "weather_dict = {'No weather': 0, 'Sunny': 1, 'Fair': 2, 'Partly cloudy': 3, 'Cloudy': 4, 'Snow': 5, 'Fog': 6, 'Rain': 7, 'Rainy showers': 8}\n",
        "\n",
        "df['Weather type'] = df['Weather type'].replace(weather_dict)\n"
      ],
      "metadata": {
        "id": "BA2NqY7CIXBA"
      },
      "execution_count": null,
      "outputs": []
    },
    {
      "cell_type": "code",
      "source": [
        "#Converting Alarm mode to float\n",
        "df['Alarm mode'] = df['Alarm mode'].str.replace('Normal', '1')\n",
        "df['Alarm mode'] = df['Alarm mode'].str.replace('No alarm', '0')\n",
        "df['Alarm mode'] = df['Alarm mode'].astype(float)"
      ],
      "metadata": {
        "id": "zV_SE3ToKzZq"
      },
      "execution_count": null,
      "outputs": []
    },
    {
      "cell_type": "code",
      "source": [
        "df_input = df[['Regularity','Steps','Time in bed (seconds)','Time asleep (seconds)','Time before sleep (seconds)','Did snore','Snore time','Air Pressure (Pa)','Weather temperature (°C)','Weather type','Movements per hour','Alarm mode' ]]"
      ],
      "metadata": {
        "id": "uULqgSXQjEw-"
      },
      "execution_count": null,
      "outputs": []
    },
    {
      "cell_type": "code",
      "source": [
        "df_output_for_prediction = df['Sleep Quality']"
      ],
      "metadata": {
        "id": "fgRxg1Jp-4tJ"
      },
      "execution_count": null,
      "outputs": []
    },
    {
      "cell_type": "code",
      "source": [
        "df['Sleep Quality'] = df['Sleep Quality'].apply(lambda x: 1 if x > 65 else 0)\n",
        "\n",
        "\n",
        "df_output = df[['Sleep Quality']]\n",
        "# median_value = df['Sleep Quality'].median()\n",
        "# df_output['Sleep Quality'].fillna(median_value, inplace=True)\n",
        "df['Sleep Quality']"
      ],
      "metadata": {
        "colab": {
          "base_uri": "https://localhost:8080/"
        },
        "id": "9eY2TWwGk1CN",
        "outputId": "8946ed49-ee17-46d2-9ba6-ac4f11de704c"
      },
      "execution_count": null,
      "outputs": [
        {
          "output_type": "execute_result",
          "data": {
            "text/plain": [
              "0      0\n",
              "1      1\n",
              "2      1\n",
              "3      1\n",
              "4      1\n",
              "      ..\n",
              "916    1\n",
              "917    0\n",
              "918    0\n",
              "919    1\n",
              "920    1\n",
              "Name: Sleep Quality, Length: 921, dtype: int64"
            ]
          },
          "metadata": {},
          "execution_count": 14
        }
      ]
    },
    {
      "cell_type": "code",
      "source": [
        "df['date'] = pd.to_datetime(df['Start'],infer_datetime_format='True')\n",
        "df.set_index('date')[['Regularity','Time asleep (seconds)','Movements per hour','Sleep Quality']].plot(subplots=True)\n",
        "# plt.title('How different attributes and output change with time')"
      ],
      "metadata": {
        "colab": {
          "base_uri": "https://localhost:8080/",
          "height": 470
        },
        "id": "VyhJd0Q5QOZr",
        "outputId": "b892a298-ff11-4fec-b7fb-a6979bf329c2"
      },
      "execution_count": null,
      "outputs": [
        {
          "output_type": "execute_result",
          "data": {
            "text/plain": [
              "array([<Axes: xlabel='date'>, <Axes: xlabel='date'>,\n",
              "       <Axes: xlabel='date'>, <Axes: xlabel='date'>], dtype=object)"
            ]
          },
          "metadata": {},
          "execution_count": 15
        },
        {
          "output_type": "display_data",
          "data": {
            "text/plain": [
              "<Figure size 640x480 with 4 Axes>"
            ],
            "image/png": "[encoded data removed]"
          },
          "metadata": {}
        }
      ]
    },
    {
      "cell_type": "code",
      "source": [
        "df_input.head()"
      ],
      "metadata": {
        "colab": {
          "base_uri": "https://localhost:8080/",
          "height": 285
        },
        "id": "Zq7yZSlzoWI4",
        "outputId": "fcab003d-6ce4-4d8c-9cc4-0ccd45821f81"
      },
      "execution_count": null,
      "outputs": [
        {
          "output_type": "execute_result",
          "data": {
            "text/plain": [
              "   Regularity  Steps  Time in bed (seconds)  Time asleep (seconds)  \\\n",
              "0         0.0   8350                24289.2                22993.8   \n",
              "1         0.0   4746                28810.2                25160.9   \n",
              "2        96.0   4007                30461.5                28430.8   \n",
              "3        92.0   6578                25327.6                23132.5   \n",
              "4        94.0   4913                25698.4                22614.6   \n",
              "\n",
              "   Time before sleep (seconds)  Did snore  Snore time  Air Pressure (Pa)  \\\n",
              "0                        161.9       True        92.0               93.7   \n",
              "1                        192.1       True         0.0               93.7   \n",
              "2                        203.1       True        74.0               93.7   \n",
              "3                        168.9       True         0.0               93.7   \n",
              "4                        171.3       True       188.0               93.7   \n",
              "\n",
              "   Weather temperature (°C)  Weather type  Movements per hour  Alarm mode  \n",
              "0                       0.0             0                35.0         1.0  \n",
              "1                       0.0             0                78.6         1.0  \n",
              "2                       0.0             0                60.5         1.0  \n",
              "3                       0.0             0                45.2         1.0  \n",
              "4                       0.0             0                44.6         1.0  "
            ],
            "text/html": [
              "\n",
              "\n",
              "  <div id=\"df-88ee7e9e-b419-4846-a9ea-b0ef7abcbd93\">\n",
              "    <div class=\"colab-df-container\">\n",
              "      <div>\n",
              "<style scoped>\n",
              "    .dataframe tbody tr th:only-of-type {\n",
              "        vertical-align: middle;\n",
              "    }\n",
              "\n",
              "    .dataframe tbody tr th {\n",
              "        vertical-align: top;\n",
              "    }\n",
              "\n",
              "    .dataframe thead th {\n",
              "        text-align: right;\n",
              "    }\n",
              "</style>\n",
              "<table border=\"1\" class=\"dataframe\">\n",
              "  <thead>\n",
              "    <tr style=\"text-align: right;\">\n",
              "      <th></th>\n",
              "      <th>Regularity</th>\n",
              "      <th>Steps</th>\n",
              "      <th>Time in bed (seconds)</th>\n",
              "      <th>Time asleep (seconds)</th>\n",
              "      <th>Time before sleep (seconds)</th>\n",
              "      <th>Did snore</th>\n",
              "      <th>Snore time</th>\n",
              "      <th>Air Pressure (Pa)</th>\n",
              "      <th>Weather temperature (°C)</th>\n",
              "      <th>Weather type</th>\n",
              "      <th>Movements per hour</th>\n",
              "      <th>Alarm mode</th>\n",
              "    </tr>\n",
              "  </thead>\n",
              "  <tbody>\n",
              "    <tr>\n",
              "      <th>0</th>\n",
              "      <td>0.0</td>\n",
              "      <td>8350</td>\n",
              "      <td>24289.2</td>\n",
              "      <td>22993.8</td>\n",
              "      <td>161.9</td>\n",
              "      <td>True</td>\n",
              "      <td>92.0</td>\n",
              "      <td>93.7</td>\n",
              "      <td>0.0</td>\n",
              "      <td>0</td>\n",
              "      <td>35.0</td>\n",
              "      <td>1.0</td>\n",
              "    </tr>\n",
              "    <tr>\n",
              "      <th>1</th>\n",
              "      <td>0.0</td>\n",
              "      <td>4746</td>\n",
              "      <td>28810.2</td>\n",
              "      <td>25160.9</td>\n",
              "      <td>192.1</td>\n",
              "      <td>True</td>\n",
              "      <td>0.0</td>\n",
              "      <td>93.7</td>\n",
              "      <td>0.0</td>\n",
              "      <td>0</td>\n",
              "      <td>78.6</td>\n",
              "      <td>1.0</td>\n",
              "    </tr>\n",
              "    <tr>\n",
              "      <th>2</th>\n",
              "      <td>96.0</td>\n",
              "      <td>4007</td>\n",
              "      <td>30461.5</td>\n",
              "      <td>28430.8</td>\n",
              "      <td>203.1</td>\n",
              "      <td>True</td>\n",
              "      <td>74.0</td>\n",
              "      <td>93.7</td>\n",
              "      <td>0.0</td>\n",
              "      <td>0</td>\n",
              "      <td>60.5</td>\n",
              "      <td>1.0</td>\n",
              "    </tr>\n",
              "    <tr>\n",
              "      <th>3</th>\n",
              "      <td>92.0</td>\n",
              "      <td>6578</td>\n",
              "      <td>25327.6</td>\n",
              "      <td>23132.5</td>\n",
              "      <td>168.9</td>\n",
              "      <td>True</td>\n",
              "      <td>0.0</td>\n",
              "      <td>93.7</td>\n",
              "      <td>0.0</td>\n",
              "      <td>0</td>\n",
              "      <td>45.2</td>\n",
              "      <td>1.0</td>\n",
              "    </tr>\n",
              "    <tr>\n",
              "      <th>4</th>\n",
              "      <td>94.0</td>\n",
              "      <td>4913</td>\n",
              "      <td>25698.4</td>\n",
              "      <td>22614.6</td>\n",
              "      <td>171.3</td>\n",
              "      <td>True</td>\n",
              "      <td>188.0</td>\n",
              "      <td>93.7</td>\n",
              "      <td>0.0</td>\n",
              "      <td>0</td>\n",
              "      <td>44.6</td>\n",
              "      <td>1.0</td>\n",
              "    </tr>\n",
              "  </tbody>\n",
              "</table>\n",
              "</div>\n",
              "      <button class=\"colab-df-convert\" onclick=\"convertToInteractive('df-88ee7e9e-b419-4846-a9ea-b0ef7abcbd93')\"\n",
              "              title=\"Convert this dataframe to an interactive table.\"\n",
              "              style=\"display:none;\">\n",
              "\n",
              "  <svg xmlns=\"http://www.w3.org/2000/svg\" height=\"24px\"viewBox=\"0 0 24 24\"\n",
              "       width=\"24px\">\n",
              "    <path d=\"M0 0h24v24H0V0z\" fill=\"none\"/>\n",
              "    <path d=\"M18.56 5.44l.94 2.06.94-2.06 2.06-.94-2.06-.94-.94-2.06-.94 2.06-2.06.94zm-11 1L8.5 8.5l.94-2.06 2.06-.94-2.06-.94L8.5 2.5l-.94 2.06-2.06.94zm10 10l.94 2.06.94-2.06 2.06-.94-2.06-.94-.94-2.06-.94 2.06-2.06.94z\"/><path d=\"M17.41 7.96l-1.37-1.37c-.4-.4-.92-.59-1.43-.59-.52 0-1.04.2-1.43.59L10.3 9.45l-7.72 7.72c-.78.78-.78 2.05 0 2.83L4 21.41c.39.39.9.59 1.41.59.51 0 1.02-.2 1.41-.59l7.78-7.78 2.81-2.81c.8-.78.8-2.07 0-2.86zM5.41 20L4 18.59l7.72-7.72 1.47 1.35L5.41 20z\"/>\n",
              "  </svg>\n",
              "      </button>\n",
              "\n",
              "\n",
              "\n",
              "    <div id=\"df-87428821-e855-43c3-8447-b4dfb80a73ef\">\n",
              "      <button class=\"colab-df-quickchart\" onclick=\"quickchart('df-87428821-e855-43c3-8447-b4dfb80a73ef')\"\n",
              "              title=\"Suggest charts.\"\n",
              "              style=\"display:none;\">\n",
              "\n",
              "<svg xmlns=\"http://www.w3.org/2000/svg\" height=\"24px\"viewBox=\"0 0 24 24\"\n",
              "     width=\"24px\">\n",
              "    <g>\n",
              "        <path d=\"M19 3H5c-1.1 0-2 .9-2 2v14c0 1.1.9 2 2 2h14c1.1 0 2-.9 2-2V5c0-1.1-.9-2-2-2zM9 17H7v-7h2v7zm4 0h-2V7h2v10zm4 0h-2v-4h2v4z\"/>\n",
              "    </g>\n",
              "</svg>\n",
              "      </button>\n",
              "    </div>\n",
              "\n",
              "<style>\n",
              "  .colab-df-quickchart {\n",
              "    background-color: #E8F0FE;\n",
              "    border: none;\n",
              "    border-radius: 50%;\n",
              "    cursor: pointer;\n",
              "    display: none;\n",
              "    fill: #1967D2;\n",
              "    height: 32px;\n",
              "    padding: 0 0 0 0;\n",
              "    width: 32px;\n",
              "  }\n",
              "\n",
              "  .colab-df-quickchart:hover {\n",
              "    background-color: #E2EBFA;\n",
              "    box-shadow: 0px 1px 2px rgba(60, 64, 67, 0.3), 0px 1px 3px 1px rgba(60, 64, 67, 0.15);\n",
              "    fill: #174EA6;\n",
              "  }\n",
              "\n",
              "  [theme=dark] .colab-df-quickchart {\n",
              "    background-color: #3B4455;\n",
              "    fill: #D2E3FC;\n",
              "  }\n",
              "\n",
              "  [theme=dark] .colab-df-quickchart:hover {\n",
              "    background-color: #434B5C;\n",
              "    box-shadow: 0px 1px 3px 1px rgba(0, 0, 0, 0.15);\n",
              "    filter: drop-shadow(0px 1px 2px rgba(0, 0, 0, 0.3));\n",
              "    fill: #FFFFFF;\n",
              "  }\n",
              "</style>\n",
              "\n",
              "    <script>\n",
              "      async function quickchart(key) {\n",
              "        const containerElement = document.querySelector('#' + key);\n",
              "        const charts = await google.colab.kernel.invokeFunction(\n",
              "            'suggestCharts', [key], {});\n",
              "      }\n",
              "    </script>\n",
              "\n",
              "      <script>\n",
              "\n",
              "function displayQuickchartButton(domScope) {\n",
              "  let quickchartButtonEl =\n",
              "    domScope.querySelector('#df-87428821-e855-43c3-8447-b4dfb80a73ef button.colab-df-quickchart');\n",
              "  quickchartButtonEl.style.display =\n",
              "    google.colab.kernel.accessAllowed ? 'block' : 'none';\n",
              "}\n",
              "\n",
              "        displayQuickchartButton(document);\n",
              "      </script>\n",
              "      <style>\n",
              "    .colab-df-container {\n",
              "      display:flex;\n",
              "      flex-wrap:wrap;\n",
              "      gap: 12px;\n",
              "    }\n",
              "\n",
              "    .colab-df-convert {\n",
              "      background-color: #E8F0FE;\n",
              "      border: none;\n",
              "      border-radius: 50%;\n",
              "      cursor: pointer;\n",
              "      display: none;\n",
              "      fill: #1967D2;\n",
              "      height: 32px;\n",
              "      padding: 0 0 0 0;\n",
              "      width: 32px;\n",
              "    }\n",
              "\n",
              "    .colab-df-convert:hover {\n",
              "      background-color: #E2EBFA;\n",
              "      box-shadow: 0px 1px 2px rgba(60, 64, 67, 0.3), 0px 1px 3px 1px rgba(60, 64, 67, 0.15);\n",
              "      fill: #174EA6;\n",
              "    }\n",
              "\n",
              "    [theme=dark] .colab-df-convert {\n",
              "      background-color: #3B4455;\n",
              "      fill: #D2E3FC;\n",
              "    }\n",
              "\n",
              "    [theme=dark] .colab-df-convert:hover {\n",
              "      background-color: #434B5C;\n",
              "      box-shadow: 0px 1px 3px 1px rgba(0, 0, 0, 0.15);\n",
              "      filter: drop-shadow(0px 1px 2px rgba(0, 0, 0, 0.3));\n",
              "      fill: #FFFFFF;\n",
              "    }\n",
              "  </style>\n",
              "\n",
              "      <script>\n",
              "        const buttonEl =\n",
              "          document.querySelector('#df-88ee7e9e-b419-4846-a9ea-b0ef7abcbd93 button.colab-df-convert');\n",
              "        buttonEl.style.display =\n",
              "          google.colab.kernel.accessAllowed ? 'block' : 'none';\n",
              "\n",
              "        async function convertToInteractive(key) {\n",
              "          const element = document.querySelector('#df-88ee7e9e-b419-4846-a9ea-b0ef7abcbd93');\n",
              "          const dataTable =\n",
              "            await google.colab.kernel.invokeFunction('convertToInteractive',\n",
              "                                                     [key], {});\n",
              "          if (!dataTable) return;\n",
              "\n",
              "          const docLinkHtml = 'Like what you see? Visit the ' +\n",
              "            '<a target=\"_blank\" href=https://colab.research.google.com/notebooks/data_table.ipynb>data table notebook</a>'\n",
              "            + ' to learn more about interactive tables.';\n",
              "          element.innerHTML = '';\n",
              "          dataTable['output_type'] = 'display_data';\n",
              "          await google.colab.output.renderOutput(dataTable, element);\n",
              "          const docLink = document.createElement('div');\n",
              "          docLink.innerHTML = docLinkHtml;\n",
              "          element.appendChild(docLink);\n",
              "        }\n",
              "      </script>\n",
              "    </div>\n",
              "  </div>\n"
            ]
          },
          "metadata": {},
          "execution_count": 16
        }
      ]
    },
    {
      "cell_type": "code",
      "source": [
        "# Here we are training Rfc\n",
        "from sklearn.ensemble import RandomForestClassifier as rfc\n",
        "x_train,x_test,y_train,y_test = train_test_split(df_input,df_output,test_size=0.25)\n",
        "y_train = np.ravel(y_train)\n",
        "model = rfc()\n",
        "model.fit(x_train,y_train)\n",
        "a = model.score(x_test,y_test)\n",
        "a"
      ],
      "metadata": {
        "colab": {
          "base_uri": "https://localhost:8080/"
        },
        "id": "HPqZMnYIhm9m",
        "outputId": "ffa5c348-b2ce-40e3-c769-b51707cd83cc"
      },
      "execution_count": null,
      "outputs": [
        {
          "output_type": "execute_result",
          "data": {
            "text/plain": [
              "0.9004329004329005"
            ]
          },
          "metadata": {},
          "execution_count": 17
        }
      ]
    },
    {
      "cell_type": "code",
      "source": [
        "# Here we are training GBC\n",
        "\n",
        "from sklearn.ensemble import GradientBoostingClassifier\n",
        "gb_clf = GradientBoostingClassifier()\n",
        "gb_clf.fit(x_train, y_train)\n",
        "b = gb_clf.score(x_test,y_test)"
      ],
      "metadata": {
        "id": "LH82TULVED-o"
      },
      "execution_count": null,
      "outputs": []
    },
    {
      "cell_type": "code",
      "source": [
        "#Here we are training SVM model\n",
        "from sklearn.svm import SVC\n",
        "model_1 = SVC()\n",
        "model_1.fit(x_train,y_train)\n",
        "c = model_1.score(x_test,y_test)\n",
        "c"
      ],
      "metadata": {
        "id": "MJ_2BeSwNsDK",
        "colab": {
          "base_uri": "https://localhost:8080/"
        },
        "outputId": "59dd84be-dd99-4b21-eabd-8db903e0ec77"
      },
      "execution_count": null,
      "outputs": [
        {
          "output_type": "execute_result",
          "data": {
            "text/plain": [
              "0.8917748917748918"
            ]
          },
          "metadata": {},
          "execution_count": 29
        }
      ]
    },
    {
      "cell_type": "code",
      "source": [
        "#Here we are training KNN classifier model\n",
        "from sklearn.neighbors import KNeighborsClassifier\n",
        "knn = KNeighborsClassifier(n_neighbors = 10)\n",
        "knn.fit(x_train,y_train)\n",
        "d = knn.score(x_test,y_test)\n",
        "d"
      ],
      "metadata": {
        "colab": {
          "base_uri": "https://localhost:8080/"
        },
        "id": "897geSzj-u5R",
        "outputId": "acdf15e7-9574-4f0d-dca2-9bd3e9e1b336"
      },
      "execution_count": null,
      "outputs": [
        {
          "output_type": "execute_result",
          "data": {
            "text/plain": [
              "0.8831168831168831"
            ]
          },
          "metadata": {},
          "execution_count": 20
        }
      ]
    },
    {
      "cell_type": "code",
      "source": [
        "#Here we are training Decision Tree classifier model\n",
        "from sklearn import tree\n",
        "dtmodel = tree.DecisionTreeClassifier()\n",
        "dtmodel.fit(x_train,y_train)\n",
        "e = dtmodel.score(x_test,y_test)\n",
        "e"
      ],
      "metadata": {
        "colab": {
          "base_uri": "https://localhost:8080/"
        },
        "id": "c2tS_sILjNdF",
        "outputId": "2a5fb733-1c0e-4139-cbcf-a3d7dca7e20d"
      },
      "execution_count": null,
      "outputs": [
        {
          "output_type": "execute_result",
          "data": {
            "text/plain": [
              "0.8701298701298701"
            ]
          },
          "metadata": {},
          "execution_count": 21
        }
      ]
    },
    {
      "cell_type": "code",
      "source": [
        "#Here we are training KMeans model\n",
        "from sklearn.cluster import KMeans\n",
        "km_model = KMeans(n_clusters=2,n_init=2)\n",
        "km_model.fit(x_train,y_train)\n",
        "y_kmeans_pred = km_model.predict(x_test)\n",
        "\n",
        "df_kmeans = pd.DataFrame(y_kmeans_pred,columns=['Predicted'])\n",
        "df_kmeans['True'] = y_test\n",
        "df_kmeans = df_kmeans.fillna(0)\n",
        "count = 0\n",
        "for i,j in zip(df_kmeans['True'],df_kmeans['Predicted']):\n",
        "  if int(i-j) == 0:\n",
        "    count+=1\n",
        "print('Accuracy of KMeans is' , count/len(df_kmeans['True']))"
      ],
      "metadata": {
        "colab": {
          "base_uri": "https://localhost:8080/"
        },
        "id": "WVPpSLJpkD5D",
        "outputId": "5c7197d8-7565-4d52-ab47-83664a8bd244"
      },
      "execution_count": null,
      "outputs": [
        {
          "output_type": "stream",
          "name": "stdout",
          "text": [
            "Accuracy of KMeans is 0.48917748917748916\n"
          ]
        }
      ]
    },
    {
      "cell_type": "code",
      "source": [
        "#Here we are training Linear Regression Model\n",
        "\n",
        "from sklearn.linear_model import LinearRegression as reg\n",
        "model_2 = reg()\n",
        "\n",
        "xs_train,xs_test,ys_train,ys_test = train_test_split(df_input,df_output_for_prediction,test_size=0.25)\n",
        "model_2.fit(xs_train,ys_train)\n",
        "ys_pred = model.predict(x_test)\n",
        "f =model_2.score(xs_test,ys_test)\n",
        "f"
      ],
      "metadata": {
        "colab": {
          "base_uri": "https://localhost:8080/"
        },
        "id": "BOrRjvFV-zRI",
        "outputId": "82872ad8-90b1-4d07-b8b8-26d77b896fd8"
      },
      "execution_count": null,
      "outputs": [
        {
          "output_type": "execute_result",
          "data": {
            "text/plain": [
              "0.6120560373514179"
            ]
          },
          "metadata": {},
          "execution_count": 23
        }
      ]
    },
    {
      "cell_type": "code",
      "source": [
        "plt.plot(ys_test,'r+')\n",
        "plt.plot(ys_pred,'g+')\n",
        "plt.show()"
      ],
      "metadata": {
        "colab": {
          "base_uri": "https://localhost:8080/",
          "height": 430
        },
        "id": "WKjqpae-01sa",
        "outputId": "808ac2f9-08fc-4151-de53-c75a66703a58"
      },
      "execution_count": null,
      "outputs": [
        {
          "output_type": "display_data",
          "data": {
            "text/plain": [
              "<Figure size 640x480 with 1 Axes>"
            ],
            "image/png": "[encoded data removed]"
          },
          "metadata": {}
        }
      ]
    },
    {
      "cell_type": "code",
      "source": [
        "names = ['RFC','GBC','SVC','KNN','DT','Regression']\n",
        "height = [a,b,c,d,e,f]\n",
        "plt.bar(names,height)\n",
        "plt.title('Final comparison of all algorithms')"
      ],
      "metadata": {
        "colab": {
          "base_uri": "https://localhost:8080/",
          "height": 469
        },
        "id": "txP7_rTcL6b2",
        "outputId": "80bf6889-2b92-46fa-f3fc-75e5665edbba"
      },
      "execution_count": null,
      "outputs": [
        {
          "output_type": "execute_result",
          "data": {
            "text/plain": [
              "Text(0.5, 1.0, 'Final comparison of all algorithms')"
            ]
          },
          "metadata": {},
          "execution_count": 25
        },
        {
          "output_type": "display_data",
          "data": {
            "text/plain": [
              "<Figure size 640x480 with 1 Axes>"
            ],
            "image/png": "[encoded data removed]"
          },
          "metadata": {}
        }
      ]
    },
    {
      "cell_type": "code",
      "source": [
        "from sklearn.metrics import confusion_matrix\n",
        "cm = confusion_matrix(y_test,model.predict(x_test))\n",
        "cm"
      ],
      "metadata": {
        "colab": {
          "base_uri": "https://localhost:8080/",
          "height": 202
        },
        "id": "qigH3YQ3MuTj",
        "outputId": "5b0ad71b-34a2-4ebd-cf1e-e4ff7d1a192c"
      },
      "execution_count": null,
      "outputs": [
        {
          "output_type": "error",
          "ename": "NameError",
          "evalue": "ignored",
          "traceback": [
            "\u001b[0;31m---------------------------------------------------------------------------\u001b[0m",
            "\u001b[0;31mNameError\u001b[0m                                 Traceback (most recent call last)",
            "\u001b[0;32m<ipython-input-1-dcda0fd5e327>\u001b[0m in \u001b[0;36m<cell line: 2>\u001b[0;34m()\u001b[0m\n\u001b[1;32m      1\u001b[0m \u001b[0;32mfrom\u001b[0m \u001b[0msklearn\u001b[0m\u001b[0;34m.\u001b[0m\u001b[0mmetrics\u001b[0m \u001b[0;32mimport\u001b[0m \u001b[0mconfusion_matrix\u001b[0m\u001b[0;34m\u001b[0m\u001b[0;34m\u001b[0m\u001b[0m\n\u001b[0;32m----> 2\u001b[0;31m \u001b[0mcm\u001b[0m \u001b[0;34m=\u001b[0m \u001b[0mconfusion_matrix\u001b[0m\u001b[0;34m(\u001b[0m\u001b[0my_test\u001b[0m\u001b[0;34m,\u001b[0m\u001b[0mmodel\u001b[0m\u001b[0;34m.\u001b[0m\u001b[0mpredict\u001b[0m\u001b[0;34m(\u001b[0m\u001b[0mx_test\u001b[0m\u001b[0;34m)\u001b[0m\u001b[0;34m)\u001b[0m\u001b[0;34m\u001b[0m\u001b[0;34m\u001b[0m\u001b[0m\n\u001b[0m\u001b[1;32m      3\u001b[0m \u001b[0mcm\u001b[0m\u001b[0;34m\u001b[0m\u001b[0;34m\u001b[0m\u001b[0m\n",
            "\u001b[0;31mNameError\u001b[0m: name 'y_test' is not defined"
          ]
        }
      ]
    },
    {
      "cell_type": "code",
      "source": [
        "plt.figure(figsize=(10,7))\n",
        "sn.heatmap(cm,annot=True)\n",
        "plt.xlabel('Predicted')\n",
        "plt.ylabel('Truth')\n",
        "plt.title('Confusion matrix for RFC ')"
      ],
      "metadata": {
        "id": "PMyzDSUCOeNv",
        "colab": {
          "base_uri": "https://localhost:8080/",
          "height": 658
        },
        "outputId": "dbc17758-cc74-4ea6-f103-45171092480d"
      },
      "execution_count": null,
      "outputs": [
        {
          "output_type": "execute_result",
          "data": {
            "text/plain": [
              "Text(0.5, 1.0, 'Confusion matrix ')"
            ]
          },
          "metadata": {},
          "execution_count": 30
        },
        {
          "output_type": "display_data",
          "data": {
            "text/plain": [
              "<Figure size 1000x700 with 2 Axes>"
            ],
            "image/png": "[encoded data removed]"
          },
          "metadata": {}
        }
      ]
    },
    {
      "cell_type": "code",
      "source": [
        "cm = confusion_matrix(y_test,dtmodel.predict(x_test))\n",
        "plt.figure(figsize=(10,7))\n",
        "sn.heatmap(cm,annot=True)\n",
        "plt.xlabel('Predicted')\n",
        "plt.ylabel('Truth')\n",
        "plt.title('Confusion matrix for Decision Tree')\n"
      ],
      "metadata": {
        "colab": {
          "base_uri": "https://localhost:8080/",
          "height": 658
        },
        "id": "CL-MM_c3VaVz",
        "outputId": "ff84455f-40c3-4017-f71b-22792b25e17a"
      },
      "execution_count": null,
      "outputs": [
        {
          "output_type": "execute_result",
          "data": {
            "text/plain": [
              "Text(0.5, 1.0, 'Confusion matrix for Decision Tree')"
            ]
          },
          "metadata": {},
          "execution_count": 32
        },
        {
          "output_type": "display_data",
          "data": {
            "text/plain": [
              "<Figure size 1000x700 with 2 Axes>"
            ],
            "image/png": "[encoded data removed]"
          },
          "metadata": {}
        }
      ]
    },
    {
      "cell_type": "code",
      "source": [
        "cm = confusion_matrix(y_test,gb_clf.predict(x_test))\n",
        "plt.figure(figsize=(10,7))\n",
        "sn.heatmap(cm,annot=True)\n",
        "plt.xlabel('Predicted')\n",
        "plt.ylabel('Truth')\n",
        "plt.title('Confusion matrix for Gradient Boosting Classifier ')\n"
      ],
      "metadata": {
        "colab": {
          "base_uri": "https://localhost:8080/",
          "height": 658
        },
        "id": "feze7FB_VamC",
        "outputId": "2de3493b-8bf7-468e-ed06-59f3e68e5e7b"
      },
      "execution_count": null,
      "outputs": [
        {
          "output_type": "execute_result",
          "data": {
            "text/plain": [
              "Text(0.5, 1.0, 'Confusion matrix for Gradient Boosting Classifier ')"
            ]
          },
          "metadata": {},
          "execution_count": 31
        },
        {
          "output_type": "display_data",
          "data": {
            "text/plain": [
              "<Figure size 1000x700 with 2 Axes>"
            ],
            "image/png": "[encoded data removed]"
          },
          "metadata": {}
        }
      ]
    },
    {
      "cell_type": "code",
      "source": [
        "cm = confusion_matrix(y_test,model_1.predict(x_test))\n",
        "plt.figure(figsize=(10,7))\n",
        "sn.heatmap(cm,annot=True)\n",
        "plt.xlabel('Predicted')\n",
        "plt.ylabel('Truth')\n",
        "plt.title('Confusion matrix for SVM')\n"
      ],
      "metadata": {
        "colab": {
          "base_uri": "https://localhost:8080/",
          "height": 658
        },
        "id": "6nzLxf1YVnO6",
        "outputId": "2d4b2e10-5d4c-4ff2-f3d1-759216e90401"
      },
      "execution_count": null,
      "outputs": [
        {
          "output_type": "execute_result",
          "data": {
            "text/plain": [
              "Text(0.5, 1.0, 'Confusion matrix for SVM')"
            ]
          },
          "metadata": {},
          "execution_count": 33
        },
        {
          "output_type": "display_data",
          "data": {
            "text/plain": [
              "<Figure size 1000x700 with 2 Axes>"
            ],
            "image/png": "[encoded data removed]"
          },
          "metadata": {}
        }
      ]
    },
    {
      "cell_type": "code",
      "source": [
        "cm = confusion_matrix(y_test,knn.predict(x_test))\n",
        "plt.figure(figsize=(10,7))\n",
        "sn.heatmap(cm,annot=True)\n",
        "plt.xlabel('Predicted')\n",
        "plt.ylabel('Truth')\n",
        "plt.title('Confusion matrix for KNN ')\n"
      ],
      "metadata": {
        "colab": {
          "base_uri": "https://localhost:8080/",
          "height": 658
        },
        "id": "FGzLTcG6Vn65",
        "outputId": "16e0f39b-b904-4326-df06-5d3540ea6278"
      },
      "execution_count": null,
      "outputs": [
        {
          "output_type": "execute_result",
          "data": {
            "text/plain": [
              "Text(0.5, 1.0, 'Confusion matrix for KNN ')"
            ]
          },
          "metadata": {},
          "execution_count": 34
        },
        {
          "output_type": "display_data",
          "data": {
            "text/plain": [
              "<Figure size 1000x700 with 2 Axes>"
            ],
            "image/png": "[encoded data removed]"
          },
          "metadata": {}
        }
      ]
    },
    {
      "cell_type": "code",
      "source": [],
      "metadata": {
        "id": "HeORgC_gYRPq"
      },
      "execution_count": null,
      "outputs": []
    }
  ]
}